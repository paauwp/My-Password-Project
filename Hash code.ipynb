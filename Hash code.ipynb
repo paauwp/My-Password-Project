{
 "cells": [
  {
   "cell_type": "code",
   "execution_count": 3,
   "metadata": {},
   "outputs": [
    {
     "name": "stdout",
     "output_type": "stream",
     "text": [
      "The hash is: \n",
      "b09097c0a4eaded58290ea1f7bd6afea966663899fc7a205f20c801369fe0324\n"
     ]
    }
   ],
   "source": [
    "import hashlib\n",
    "\n",
    "def hash_string(string):\n",
    "    \n",
    "    # Return the SHA-256 Hash of a given string\n",
    "    \n",
    "    return hashlib.sha256(string.encode('utf-8')).hexdigest()\n",
    "\n",
    "#Main\n",
    "hash = hash_string('sumb@5password')\n",
    "print (\"The hash is: \")\n",
    "print (hash)\n"
   ]
  },
  {
   "cell_type": "code",
   "execution_count": null,
   "metadata": {},
   "outputs": [],
   "source": []
  }
 ],
 "metadata": {
  "kernelspec": {
   "display_name": "Python 3",
   "language": "python",
   "name": "python3"
  },
  "language_info": {
   "codemirror_mode": {
    "name": "ipython",
    "version": 3
   },
   "file_extension": ".py",
   "mimetype": "text/x-python",
   "name": "python",
   "nbconvert_exporter": "python",
   "pygments_lexer": "ipython3",
   "version": "3.7.1"
  }
 },
 "nbformat": 4,
 "nbformat_minor": 2
}
